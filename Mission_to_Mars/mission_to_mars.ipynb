{
 "cells": [
  {
   "cell_type": "code",
   "execution_count": 1,
   "metadata": {},
   "outputs": [],
   "source": [
    "import pandas as pd\n",
    "import pymongo\n",
    "from splinter import Browser\n",
    "from bs4 import BeautifulSoup\n",
    "from webdriver_manager.chrome import ChromeDriverManager\n"
   ]
  },
  {
   "cell_type": "code",
   "execution_count": 13,
   "metadata": {},
   "outputs": [],
   "source": [
    "#Establish db connection\n",
    "conn = \"mongodb://localhost:27017\"\n",
    "client = pymongo.MongoClient(conn)"
   ]
  },
  {
   "cell_type": "code",
   "execution_count": 14,
   "metadata": {},
   "outputs": [],
   "source": [
    "# Define the Mongo database\n",
    "# Declare the db\n",
    "db = client.mars_db\n",
    "\n",
    "# Declare the collection\n",
    "collection = db.mars"
   ]
  },
  {
   "cell_type": "code",
   "execution_count": 15,
   "metadata": {
    "scrolled": true
   },
   "outputs": [
    {
     "name": "stderr",
     "output_type": "stream",
     "text": [
      "[WDM] - ====== WebDriver manager ======\n",
      "[WDM] - Current google-chrome version is 89.0.4389\n",
      "[WDM] - Get LATEST driver version for 89.0.4389\n"
     ]
    },
    {
     "name": "stdout",
     "output_type": "stream",
     "text": [
      "\n",
      "\n"
     ]
    },
    {
     "name": "stderr",
     "output_type": "stream",
     "text": [
      "[WDM] - Driver [C:\\Users\\khagl\\.wdm\\drivers\\chromedriver\\win32\\89.0.4389.23\\chromedriver.exe] found in cache\n"
     ]
    }
   ],
   "source": [
    "#Define executable path and initialize the browser\n",
    "executable_path = {'executable_path': ChromeDriverManager().install()}\n",
    "browser = Browser('chrome', **executable_path, headless=False)"
   ]
  },
  {
   "cell_type": "code",
   "execution_count": 16,
   "metadata": {},
   "outputs": [],
   "source": [
    "# Initialize the browser\n",
    "url = 'https://redplanetscience.com/'\n",
    "browser.visit(url)"
   ]
  },
  {
   "cell_type": "code",
   "execution_count": 17,
   "metadata": {},
   "outputs": [],
   "source": [
    "#Parse into Beautiful Soup object\n",
    "html = browser.html\n",
    "soup = BeautifulSoup(html, \"html.parser\")"
   ]
  },
  {
   "cell_type": "code",
   "execution_count": 19,
   "metadata": {},
   "outputs": [
    {
     "name": "stdout",
     "output_type": "stream",
     "text": [
      "------------------------------------------\n",
      "Headline:  InSight's 'Mole' Team Peers into the Pit\n",
      "Content:  Efforts to save the heat probe continue.\n",
      "------------------------------------------\n",
      "Headline:  NASA's Mars Helicopter Attached to Mars 2020 Rover \n",
      "Content:  The helicopter will be first aircraft to perform flight tests on another planet.\n",
      "------------------------------------------\n",
      "Headline:  Follow NASA's Perseverance Rover in Real Time on Its Way to Mars\n",
      "Content:  A crisply rendered web application can show you where the agency's Mars 2020 mission is right now as it makes its way to the Red Planet for a Feb. 18, 2021, landing.\n",
      "------------------------------------------\n",
      "Headline:  Mars InSight Lander to Push on Top of the 'Mole'\n",
      "Content:  Engineers have a plan for pushing down on the heat probe, which has been stuck at the Martian surface for a year.\n",
      "------------------------------------------\n",
      "Headline:  NASA's Curiosity Keeps Rolling As Team Operates Rover From Home\n",
      "Content:  The team has learned to meet new challenges as they work remotely on the Mars mission.\n",
      "------------------------------------------\n",
      "Headline:  Meet the People Behind NASA's Perseverance Rover\n",
      "Content:  These are the scientists and engineers who built NASA's next Mars rover and who will guide it to a safe landing in Jezero Crater. \n",
      "------------------------------------------\n",
      "Headline:  NASA to Broadcast Mars 2020 Perseverance Launch, Prelaunch Activities\n",
      "Content:  Starting July 27, news activities will cover everything from mission engineering and science to returning samples from Mars to, of course, the launch itself.\n",
      "------------------------------------------\n",
      "Headline:  NASA's Mars 2020 Rover Tests Descent-Stage Separation\n",
      "Content:  A crane lifts the rocket-powered descent stage away from NASA's Mars 2020 rover after technicians tested the pyrotechnic charges that separate the two spacecraft.\n",
      "------------------------------------------\n",
      "Headline:  NASA's Perseverance Rover Goes Through Trials by Fire, Ice, Light and Sound\n",
      "Content:  The agency's new Mars rover is put through a series of tests in vacuum chambers, acoustic chambers and more to get ready for the Red Planet.\n",
      "------------------------------------------\n",
      "Headline:  The Man Who Wanted to Fly on Mars\n",
      "Content:  The Mars Helicopter is riding to the Red Planet this summer with NASA's Perseverance rover. The helicopter's chief engineer, Bob Balaram, shares the saga of how it came into being.\n",
      "------------------------------------------\n",
      "Headline:  NASA's MAVEN Explores Mars to Understand Radio Interference at Earth\n",
      "Content:  NASA’s MAVEN spacecraft has discovered “layers” and “rifts” in the electrically charged part of the upper atmosphere of Mars.\n",
      "------------------------------------------\n",
      "Headline:  NASA, ULA Launch Mars 2020 Perseverance Rover Mission to Red Planet\n",
      "Content:  The agency's Mars 2020 mission is on its way. It will land at Jezero Crater in about seven months, on Feb. 18, 2021. \n",
      "------------------------------------------\n",
      "Headline:  Mars 2020 Unwrapped and Ready for More Testing\n",
      "Content:  In time-lapse video, bunny-suited engineers remove the inner layer of protective foil on NASA's Mars 2020 rover after it was relocated for testing.\n",
      "------------------------------------------\n",
      "Headline:  HiRISE Views NASA's InSight and Curiosity on Mars\n",
      "Content:  New images taken from space offer the clearest orbital glimpse yet of InSight as well as a view of Curiosity rolling along.\n",
      "------------------------------------------\n",
      "Headline:  Independent Review Indicates NASA Prepared for Mars Sample Return Campaign\n",
      "Content:  NASA released an independent review report Tuesday indicating the agency is well positioned for its Mars Sample Return campaign to bring pristine samples from Mars to Earth for scientific study.\n"
     ]
    }
   ],
   "source": [
    "# Iterate through all cards of the news in the bootstrap code\n",
    "# Retrieve all elements that contain News Titles and Paragraph Text\n",
    "articles = soup.find_all(\"div\", class_ = \"list_text\")\n",
    "   \n",
    "# Iterate through each card and retrieve headline and paragraph\n",
    "for article in articles:\n",
    "       \n",
    "    # Use BeautifulSoup's find() method to navigate and retrieve attributes\n",
    "    news_title = article.find(\"div\", class_ = \"content_title\").text\n",
    "    news_body = article.find(\"div\", class_ = \"article_teaser_body\").text\n",
    "    \n",
    "    print(\"------------------------------------------\")\n",
    "    print(f\"Headline:  {news_title}\")\n",
    "    print(f\"Content:  {news_body}\")\n",
    "   \n",
    "    # Dictionary to be inserted as a MongoDB document\n",
    "    post = {\"Headline\": news_title, \n",
    "            \"Content\": news_body,\n",
    "           }\n",
    "           \n",
    "    collection.insert_one(post)"
   ]
  },
  {
   "cell_type": "code",
   "execution_count": 24,
   "metadata": {},
   "outputs": [
    {
     "name": "stdout",
     "output_type": "stream",
     "text": [
      "{'_id': ObjectId('60625210e3fb7546755f5d5c'), 'Headline': \"InSight's 'Mole' Team Peers into the Pit\", 'Content': 'Efforts to save the heat probe continue.'}\n",
      "{'_id': ObjectId('60625210e3fb7546755f5d5d'), 'Headline': \"NASA's Mars Helicopter Attached to Mars 2020 Rover \", 'Content': 'The helicopter will be first aircraft to perform flight tests on another planet.'}\n",
      "{'_id': ObjectId('60625210e3fb7546755f5d5e'), 'Headline': \"Follow NASA's Perseverance Rover in Real Time on Its Way to Mars\", 'Content': \"A crisply rendered web application can show you where the agency's Mars 2020 mission is right now as it makes its way to the Red Planet for a Feb. 18, 2021, landing.\"}\n",
      "{'_id': ObjectId('60625210e3fb7546755f5d5f'), 'Headline': \"Mars InSight Lander to Push on Top of the 'Mole'\", 'Content': 'Engineers have a plan for pushing down on the heat probe, which has been stuck at the Martian surface for a year.'}\n",
      "{'_id': ObjectId('60625210e3fb7546755f5d60'), 'Headline': \"NASA's Curiosity Keeps Rolling As Team Operates Rover From Home\", 'Content': 'The team has learned to meet new challenges as they work remotely on the Mars mission.'}\n",
      "{'_id': ObjectId('60625210e3fb7546755f5d61'), 'Headline': \"Meet the People Behind NASA's Perseverance Rover\", 'Content': \"These are the scientists and engineers who built NASA's next Mars rover and who will guide it to a safe landing in Jezero Crater. \"}\n",
      "{'_id': ObjectId('60625210e3fb7546755f5d62'), 'Headline': 'NASA to Broadcast Mars 2020 Perseverance Launch, Prelaunch Activities', 'Content': 'Starting July 27, news activities will cover everything from mission engineering and science to returning samples from Mars to, of course, the launch itself.'}\n",
      "{'_id': ObjectId('60625210e3fb7546755f5d63'), 'Headline': \"NASA's Mars 2020 Rover Tests Descent-Stage Separation\", 'Content': \"A crane lifts the rocket-powered descent stage away from NASA's Mars 2020 rover after technicians tested the pyrotechnic charges that separate the two spacecraft.\"}\n",
      "{'_id': ObjectId('60625210e3fb7546755f5d64'), 'Headline': \"NASA's Perseverance Rover Goes Through Trials by Fire, Ice, Light and Sound\", 'Content': \"The agency's new Mars rover is put through a series of tests in vacuum chambers, acoustic chambers and more to get ready for the Red Planet.\"}\n",
      "{'_id': ObjectId('60625210e3fb7546755f5d65'), 'Headline': 'The Man Who Wanted to Fly on Mars', 'Content': \"The Mars Helicopter is riding to the Red Planet this summer with NASA's Perseverance rover. The helicopter's chief engineer, Bob Balaram, shares the saga of how it came into being.\"}\n",
      "{'_id': ObjectId('60625210e3fb7546755f5d66'), 'Headline': \"NASA's MAVEN Explores Mars to Understand Radio Interference at Earth\", 'Content': 'NASA’s MAVEN spacecraft has discovered “layers” and “rifts” in the electrically charged part of the upper atmosphere of Mars.'}\n",
      "{'_id': ObjectId('60625210e3fb7546755f5d67'), 'Headline': 'NASA, ULA Launch Mars 2020 Perseverance Rover Mission to Red Planet', 'Content': \"The agency's Mars 2020 mission is on its way. It will land at Jezero Crater in about seven months, on Feb. 18, 2021. \"}\n",
      "{'_id': ObjectId('60625210e3fb7546755f5d68'), 'Headline': 'Mars 2020 Unwrapped and Ready for More Testing', 'Content': \"In time-lapse video, bunny-suited engineers remove the inner layer of protective foil on NASA's Mars 2020 rover after it was relocated for testing.\"}\n",
      "{'_id': ObjectId('60625210e3fb7546755f5d69'), 'Headline': \"HiRISE Views NASA's InSight and Curiosity on Mars\", 'Content': 'New images taken from space offer the clearest orbital glimpse yet of InSight as well as a view of Curiosity rolling along.'}\n",
      "{'_id': ObjectId('60625210e3fb7546755f5d6a'), 'Headline': 'Independent Review Indicates NASA Prepared for Mars Sample Return Campaign', 'Content': 'NASA released an independent review report Tuesday indicating the agency is well positioned for its Mars Sample Return campaign to bring pristine samples from Mars to Earth for scientific study.'}\n"
     ]
    }
   ],
   "source": [
    "# Verify database results \n",
    "results = collection.find()\n",
    "for result in results:\n",
    "    print(result)"
   ]
  },
  {
   "cell_type": "code",
   "execution_count": 25,
   "metadata": {},
   "outputs": [],
   "source": [
    "browser.quit()"
   ]
  },
  {
   "cell_type": "code",
   "execution_count": null,
   "metadata": {},
   "outputs": [],
   "source": []
  }
 ],
 "metadata": {
  "kernelspec": {
   "display_name": "Python 3",
   "language": "python",
   "name": "python3"
  },
  "language_info": {
   "codemirror_mode": {
    "name": "ipython",
    "version": 3
   },
   "file_extension": ".py",
   "mimetype": "text/x-python",
   "name": "python",
   "nbconvert_exporter": "python",
   "pygments_lexer": "ipython3",
   "version": "3.6.10"
  },
  "varInspector": {
   "cols": {
    "lenName": 16,
    "lenType": 16,
    "lenVar": 40
   },
   "kernels_config": {
    "python": {
     "delete_cmd_postfix": "",
     "delete_cmd_prefix": "del ",
     "library": "var_list.py",
     "varRefreshCmd": "print(var_dic_list())"
    },
    "r": {
     "delete_cmd_postfix": ") ",
     "delete_cmd_prefix": "rm(",
     "library": "var_list.r",
     "varRefreshCmd": "cat(var_dic_list()) "
    }
   },
   "types_to_exclude": [
    "module",
    "function",
    "builtin_function_or_method",
    "instance",
    "_Feature"
   ],
   "window_display": false
  }
 },
 "nbformat": 4,
 "nbformat_minor": 2
}
