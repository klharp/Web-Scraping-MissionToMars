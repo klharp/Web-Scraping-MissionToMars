{
 "cells": [
  {
   "cell_type": "code",
   "execution_count": 1,
   "metadata": {},
   "outputs": [],
   "source": [
    "import pandas as pd\n",
    "import pymongo\n",
    "from splinter import Browser\n",
    "from bs4 import BeautifulSoup\n",
    "from webdriver_manager.chrome import ChromeDriverManager\n",
    "import time"
   ]
  },
  {
   "cell_type": "code",
   "execution_count": 2,
   "metadata": {},
   "outputs": [],
   "source": [
    "#Establish db connection\n",
    "conn = \"mongodb://localhost:27017\"\n",
    "client = pymongo.MongoClient(conn)"
   ]
  },
  {
   "cell_type": "code",
   "execution_count": 3,
   "metadata": {},
   "outputs": [],
   "source": [
    "# Define the Mongo database\n",
    "# Declare the db\n",
    "db = client.mars_db\n",
    "\n",
    "# Declare the collection\n",
    "collection = db.mars"
   ]
  },
  {
   "cell_type": "code",
   "execution_count": 4,
   "metadata": {
    "scrolled": true
   },
   "outputs": [
    {
     "name": "stderr",
     "output_type": "stream",
     "text": [
      "[WDM] - ====== WebDriver manager ======\n",
      "[WDM] - Current google-chrome version is 89.0.4389\n",
      "[WDM] - Get LATEST driver version for 89.0.4389\n"
     ]
    },
    {
     "name": "stdout",
     "output_type": "stream",
     "text": [
      "\n",
      "\n"
     ]
    },
    {
     "name": "stderr",
     "output_type": "stream",
     "text": [
      "[WDM] - Driver [C:\\Users\\khagl\\.wdm\\drivers\\chromedriver\\win32\\89.0.4389.23\\chromedriver.exe] found in cache\n"
     ]
    }
   ],
   "source": [
    "#Define executable path and initialize the browser\n",
    "executable_path = {'executable_path': ChromeDriverManager().install()}\n",
    "browser = Browser('chrome', **executable_path, headless=False)"
   ]
  },
  {
   "cell_type": "markdown",
   "metadata": {},
   "source": [
    "## NASA Mars News Scraping\n",
    "\n",
    "[Mars News Site](https://redplanetscience.com/)"
   ]
  },
  {
   "cell_type": "code",
   "execution_count": 5,
   "metadata": {},
   "outputs": [],
   "source": [
    "# Initialize the browser\n",
    "url = 'https://redplanetscience.com/'\n",
    "browser.visit(url)"
   ]
  },
  {
   "cell_type": "code",
   "execution_count": 6,
   "metadata": {},
   "outputs": [],
   "source": [
    "#Parse into Beautiful Soup object\n",
    "news_html = browser.html\n",
    "soup = BeautifulSoup(news_html, \"html.parser\")"
   ]
  },
  {
   "cell_type": "code",
   "execution_count": 7,
   "metadata": {
    "scrolled": true
   },
   "outputs": [
    {
     "name": "stdout",
     "output_type": "stream",
     "text": [
      "------------------------------------------\n",
      "Headline:  NASA's Mars Helicopter Attached to Mars 2020 Rover \n",
      "Content:  The helicopter will be first aircraft to perform flight tests on another planet.\n",
      "------------------------------------------\n",
      "Headline:  Follow NASA's Perseverance Rover in Real Time on Its Way to Mars\n",
      "Content:  A crisply rendered web application can show you where the agency's Mars 2020 mission is right now as it makes its way to the Red Planet for a Feb. 18, 2021, landing.\n",
      "------------------------------------------\n",
      "Headline:  Mars 2020 Unwrapped and Ready for More Testing\n",
      "Content:  In time-lapse video, bunny-suited engineers remove the inner layer of protective foil on NASA's Mars 2020 rover after it was relocated for testing.\n",
      "------------------------------------------\n",
      "Headline:  NASA Administrator Statement on Moon to Mars Initiative, FY 2021 Budget\n",
      "Content:  Jim Bridenstine addresses NASA's ambitious plans for the coming years, including Mars Sample Return.\n",
      "------------------------------------------\n",
      "Headline:  NASA's Curiosity Takes Selfie With 'Mary Anning' on the Red Planet\n",
      "Content:  The Mars rover has drilled three samples of rock in this clay-enriched region since arriving in July.\n",
      "------------------------------------------\n",
      "Headline:  How NASA's Perseverance Mars Team Adjusted to Work in the Time of Coronavirus \n",
      "Content:  Like much of the rest of the world, the Mars rover team is pushing forward with its mission-critical work while putting the health and safety of their colleagues and community first.\n",
      "------------------------------------------\n",
      "Headline:  Heat and Dust Help Launch Martian Water Into Space, Scientists Find\n",
      "Content:  Scientists using an instrument aboard NASA’s Mars Atmosphere and Volatile EvolutioN, or MAVEN, spacecraft have discovered that water vapor near the surface of the Red Planet is lofted higher into the atmosphere than anyone expected was possible. \n",
      "------------------------------------------\n",
      "Headline:  While Stargazing on Mars, NASA's Curiosity Rover Spots Earth and Venus\n",
      "Content:  This new portrait of the Red Planet's neighbors was taken during a time when there's more dust in the air on Mars.\n",
      "------------------------------------------\n",
      "Headline:  A Year of Surprising Science From NASA's InSight Mars Mission\n",
      "Content:  A batch of new papers summarizes the lander's findings above and below the surface of the Red Planet.\n",
      "------------------------------------------\n",
      "Headline:  MOXIE Could Help Future Rockets Launch Off Mars\n",
      "Content:  NASA's Perseverance rover carries a device to convert Martian air into oxygen that, if produced on a larger scale, could be used not just for breathing, but also for fuel.\n",
      "------------------------------------------\n",
      "Headline:  NASA Perseverance Mars Rover Scientists Train in the Nevada Desert\n",
      "Content:  Team members searched for signs of ancient microscopic life there, just as NASA's latest rover will on the Red Planet next year.\n",
      "------------------------------------------\n",
      "Headline:  NASA's New Mars Rover Is Ready for Space Lasers\n",
      "Content:  Perseverance is one of a few Mars spacecraft carrying laser retroreflectors. The devices could provide new science and safer Mars landings in the future.\n",
      "------------------------------------------\n",
      "Headline:  Curiosity Mars Rover's Summer Road Trip Has Begun\n",
      "Content:  After more than a year in the \"clay-bearing unit,\" Curiosity is making a mile-long journey around some deep sand so that it can explore higher up Mount Sharp.\n",
      "------------------------------------------\n",
      "Headline:  Two of a Space Kind: Apollo 12 and Mars 2020\n",
      "Content:  Apollo 12 and the upcoming Mars 2020 mission may be separated by half a century, but they share several goals unique in the annals of space exploration.\n",
      "------------------------------------------\n",
      "Headline:  Space History Is Made in This NASA Robot Factory\n",
      "Content:  From rockets to rovers, JPL's Spacecraft Assembly Facility has been at the center of robotic spaceflight. Here's a closer look at what makes it so special.\n"
     ]
    }
   ],
   "source": [
    "# Iterate through all cards of the news in the bootstrap code\n",
    "# Retrieve all elements that contain News Titles and Paragraph Text\n",
    "articles = soup.find_all(\"div\", class_ = \"list_text\")\n",
    "   \n",
    "# Iterate through each card and retrieve headline and paragraph\n",
    "for article in articles:\n",
    "       \n",
    "    # Use BeautifulSoup's find() method to navigate and retrieve attributes\n",
    "    news_title = article.find(\"div\", class_ = \"content_title\").text\n",
    "    news_body = article.find(\"div\", class_ = \"article_teaser_body\").text\n",
    "    \n",
    "    print(\"------------------------------------------\")\n",
    "    print(f\"Headline:  {news_title}\")\n",
    "    print(f\"Content:  {news_body}\")\n",
    "   \n",
    "    # Dictionary to be inserted as a MongoDB document\n",
    "    post = {\"Headline\": news_title, \n",
    "            \"Content\": news_body,\n",
    "           }\n",
    "           \n",
    "    collection.insert_one(post)"
   ]
  },
  {
   "cell_type": "code",
   "execution_count": 8,
   "metadata": {},
   "outputs": [
    {
     "name": "stdout",
     "output_type": "stream",
     "text": [
      "{'_id': ObjectId('60625210e3fb7546755f5d5c'), 'Headline': \"InSight's 'Mole' Team Peers into the Pit\", 'Content': 'Efforts to save the heat probe continue.'}\n",
      "{'_id': ObjectId('60625210e3fb7546755f5d5d'), 'Headline': \"NASA's Mars Helicopter Attached to Mars 2020 Rover \", 'Content': 'The helicopter will be first aircraft to perform flight tests on another planet.'}\n",
      "{'_id': ObjectId('60625210e3fb7546755f5d5e'), 'Headline': \"Follow NASA's Perseverance Rover in Real Time on Its Way to Mars\", 'Content': \"A crisply rendered web application can show you where the agency's Mars 2020 mission is right now as it makes its way to the Red Planet for a Feb. 18, 2021, landing.\"}\n",
      "{'_id': ObjectId('60625210e3fb7546755f5d5f'), 'Headline': \"Mars InSight Lander to Push on Top of the 'Mole'\", 'Content': 'Engineers have a plan for pushing down on the heat probe, which has been stuck at the Martian surface for a year.'}\n",
      "{'_id': ObjectId('60625210e3fb7546755f5d60'), 'Headline': \"NASA's Curiosity Keeps Rolling As Team Operates Rover From Home\", 'Content': 'The team has learned to meet new challenges as they work remotely on the Mars mission.'}\n",
      "{'_id': ObjectId('60625210e3fb7546755f5d61'), 'Headline': \"Meet the People Behind NASA's Perseverance Rover\", 'Content': \"These are the scientists and engineers who built NASA's next Mars rover and who will guide it to a safe landing in Jezero Crater. \"}\n",
      "{'_id': ObjectId('60625210e3fb7546755f5d62'), 'Headline': 'NASA to Broadcast Mars 2020 Perseverance Launch, Prelaunch Activities', 'Content': 'Starting July 27, news activities will cover everything from mission engineering and science to returning samples from Mars to, of course, the launch itself.'}\n",
      "{'_id': ObjectId('60625210e3fb7546755f5d63'), 'Headline': \"NASA's Mars 2020 Rover Tests Descent-Stage Separation\", 'Content': \"A crane lifts the rocket-powered descent stage away from NASA's Mars 2020 rover after technicians tested the pyrotechnic charges that separate the two spacecraft.\"}\n",
      "{'_id': ObjectId('60625210e3fb7546755f5d64'), 'Headline': \"NASA's Perseverance Rover Goes Through Trials by Fire, Ice, Light and Sound\", 'Content': \"The agency's new Mars rover is put through a series of tests in vacuum chambers, acoustic chambers and more to get ready for the Red Planet.\"}\n",
      "{'_id': ObjectId('60625210e3fb7546755f5d65'), 'Headline': 'The Man Who Wanted to Fly on Mars', 'Content': \"The Mars Helicopter is riding to the Red Planet this summer with NASA's Perseverance rover. The helicopter's chief engineer, Bob Balaram, shares the saga of how it came into being.\"}\n",
      "{'_id': ObjectId('60625210e3fb7546755f5d66'), 'Headline': \"NASA's MAVEN Explores Mars to Understand Radio Interference at Earth\", 'Content': 'NASA’s MAVEN spacecraft has discovered “layers” and “rifts” in the electrically charged part of the upper atmosphere of Mars.'}\n",
      "{'_id': ObjectId('60625210e3fb7546755f5d67'), 'Headline': 'NASA, ULA Launch Mars 2020 Perseverance Rover Mission to Red Planet', 'Content': \"The agency's Mars 2020 mission is on its way. It will land at Jezero Crater in about seven months, on Feb. 18, 2021. \"}\n",
      "{'_id': ObjectId('60625210e3fb7546755f5d68'), 'Headline': 'Mars 2020 Unwrapped and Ready for More Testing', 'Content': \"In time-lapse video, bunny-suited engineers remove the inner layer of protective foil on NASA's Mars 2020 rover after it was relocated for testing.\"}\n",
      "{'_id': ObjectId('60625210e3fb7546755f5d69'), 'Headline': \"HiRISE Views NASA's InSight and Curiosity on Mars\", 'Content': 'New images taken from space offer the clearest orbital glimpse yet of InSight as well as a view of Curiosity rolling along.'}\n",
      "{'_id': ObjectId('60625210e3fb7546755f5d6a'), 'Headline': 'Independent Review Indicates NASA Prepared for Mars Sample Return Campaign', 'Content': 'NASA released an independent review report Tuesday indicating the agency is well positioned for its Mars Sample Return campaign to bring pristine samples from Mars to Earth for scientific study.'}\n",
      "{'_id': ObjectId('60627c4e20535954b992e627'), 'Headline': 'Naming a NASA Mars Rover Can Change Your Life', 'Content': 'Want to name the robotic scientist NASA is sending to Mars in 2020? The student who named Curiosity — the rover currently exploring Mars — will tell you this is an opportunity worth taking.'}\n",
      "{'_id': ObjectId('60627c4e20535954b992e628'), 'Headline': \"NASA's Mars Reconnaissance Orbiter Undergoes Memory Update\", 'Content': 'Other orbiters will continue relaying data from Mars surface missions for a two-week period.'}\n",
      "{'_id': ObjectId('60627c4e20535954b992e629'), 'Headline': \"NASA's Curiosity Keeps Rolling As Team Operates Rover From Home\", 'Content': 'The team has learned to meet new challenges as they work remotely on the Mars mission.'}\n",
      "{'_id': ObjectId('60627c4e20535954b992e62a'), 'Headline': \"NASA's Mars 2020 Will Hunt for Microscopic Fossils\", 'Content': \"A new paper identifies a ring of minerals at the rover's landing site that are ideal for fossilizing microbial life.\"}\n",
      "{'_id': ObjectId('60627c4e20535954b992e62b'), 'Headline': \"Media Get a Close-Up of NASA's Mars 2020 Rover\", 'Content': \"The clean room at NASA's Jet Propulsion Laboratory was open to the media to see NASA's next Mars explorer before it leaves for Florida in preparation for a summertime launch.\"}\n",
      "{'_id': ObjectId('60627c4e20535954b992e62c'), 'Headline': \"NASA's Perseverance Rover Attached to Atlas V Rocket\", 'Content': 'Ready for its launch later in the month, the Mars-bound rover will touch terra firma no more.'}\n",
      "{'_id': ObjectId('60627c4e20535954b992e62d'), 'Headline': 'The MarCO Mission Comes to an End', 'Content': 'The pair of briefcase-sized satellites made history when they sailed past Mars in 2019.'}\n",
      "{'_id': ObjectId('60627c4e20535954b992e62e'), 'Headline': \"NASA's Perseverance Mars Rover Gets Balanced\", 'Content': \"The mission team performed a crucial weight-balancing test on the rover in preparation for this summer's history-making launch to the Red Planet.\"}\n",
      "{'_id': ObjectId('60627c4e20535954b992e62f'), 'Headline': 'Join NASA for the Launch of the Mars 2020 Perseverance Rover', 'Content': 'No matter where you live, choose from a menu of activities to join NASA as we \"Countdown to Mars\" and launch the Perseverance rover to the Red Planet.'}\n",
      "{'_id': ObjectId('60627c4e20535954b992e630'), 'Headline': 'NASA Moves Forward With Campaign to Return Mars Samples to Earth', 'Content': 'During this next phase, the program will mature critical technologies and make critical design decisions as well as assess industry partnerships.'}\n",
      "{'_id': ObjectId('60627c4e20535954b992e631'), 'Headline': 'The Man Who Wanted to Fly on Mars', 'Content': \"The Mars Helicopter is riding to the Red Planet this summer with NASA's Perseverance rover. The helicopter's chief engineer, Bob Balaram, shares the saga of how it came into being.\"}\n",
      "{'_id': ObjectId('60627c4e20535954b992e632'), 'Headline': \"NASA's New Mars Rover Will Use X-Rays to Hunt Fossils\", 'Content': \"PIXL, an instrument on the end of the Perseverance rover's arm, will search for chemical fingerprints left by ancient microbes.\"}\n",
      "{'_id': ObjectId('60627c4e20535954b992e633'), 'Headline': \"NASA's Briefcase-Size MarCO Satellite Picks Up Honors\", 'Content': 'The twin spacecraft, the first of their kind to fly into deep space, earn a Laureate from Aviation Week & Space Technology.'}\n",
      "{'_id': ObjectId('60627c4e20535954b992e634'), 'Headline': \"8 Martian Postcards to Celebrate Curiosity's Landing Anniversary\", 'Content': 'The NASA rover touched down eight years ago, on Aug. 5, 2012, and will soon be joined by a second rover, Perseverance.'}\n",
      "{'_id': ObjectId('60627c4e20535954b992e635'), 'Headline': \"NASA's Mars Rover Drivers Need Your Help\", 'Content': 'Using an online tool to label Martian terrain types, you can train an artificial intelligence algorithm that could improve the way engineers guide the Curiosity rover.'}\n",
      "{'_id': ObjectId('60627c8ed88eb8658e2a2323'), 'Headline': \"Deadline Closing for Names to Fly on NASA's Next Mars Rover\", 'Content': 'You have until Sept. 30 to send your names to Mars aboard the Mars 2020 rover. '}\n",
      "{'_id': ObjectId('60627c8ed88eb8658e2a2324'), 'Headline': \"8 Martian Postcards to Celebrate Curiosity's Landing Anniversary\", 'Content': 'The NASA rover touched down eight years ago, on Aug. 5, 2012, and will soon be joined by a second rover, Perseverance.'}\n",
      "{'_id': ObjectId('60627c8ed88eb8658e2a2325'), 'Headline': 'NASA Prepares for Moon and Mars With New Addition to Its Deep Space Network', 'Content': 'Robotic spacecraft will be able to communicate with the dish using radio waves and lasers.'}\n",
      "{'_id': ObjectId('60627c8ed88eb8658e2a2326'), 'Headline': \"NASA Wins 4 Webbys, 4 People's Voice Awards\", 'Content': 'Winners include the JPL-managed \"Send Your Name to Mars\" campaign, NASA\\'s Global Climate Change website and Solar System Interactive.'}\n",
      "{'_id': ObjectId('60627c8ed88eb8658e2a2327'), 'Headline': 'NASA to Reveal Name of Its Next Mars Rover', 'Content': \"After a months-long contest among students to name NASA's newest Mars rover, the agency will reveal the winning name — and the winning student — this Thursday. \"}\n",
      "{'_id': ObjectId('60627c8ed88eb8658e2a2328'), 'Headline': \"How NASA's Perseverance Mars Team Adjusted to Work in the Time of Coronavirus \", 'Content': 'Like much of the rest of the world, the Mars rover team is pushing forward with its mission-critical work while putting the health and safety of their colleagues and community first.'}\n",
      "{'_id': ObjectId('60627c8ed88eb8658e2a2329'), 'Headline': \"NASA InSight's 'Mole' Is Out of Sight\", 'Content': \"Now that the heat probe is just below the Martian surface, InSight's arm will scoop some additional soil on top to help it keep digging so it can take Mars' temperature.\"}\n",
      "{'_id': ObjectId('60627c8ed88eb8658e2a232a'), 'Headline': 'The Man Who Wanted to Fly on Mars', 'Content': \"The Mars Helicopter is riding to the Red Planet this summer with NASA's Perseverance rover. The helicopter's chief engineer, Bob Balaram, shares the saga of how it came into being.\"}\n",
      "{'_id': ObjectId('60627c8ed88eb8658e2a232b'), 'Headline': 'NASA Administrator Statement on Moon to Mars Initiative, FY 2021 Budget', 'Content': \"Jim Bridenstine addresses NASA's ambitious plans for the coming years, including Mars Sample Return.\"}\n",
      "{'_id': ObjectId('60627c8ed88eb8658e2a232c'), 'Headline': \"Newfound Martian Aurora Actually the Most Common; Sheds Light on Mars' Changing Climate\", 'Content': 'A type of Martian aurora first identified by NASA’s MAVEN spacecraft in 2016 is actually the most common form of aurora occurring on the Red Planet, according to new results from the mission.'}\n",
      "{'_id': ObjectId('60627c8ed88eb8658e2a232d'), 'Headline': \"NASA's Mars 2020 Rover Completes Its First Drive\", 'Content': 'In a 10-plus-hour marathon, the rover steered, turned and drove in 3-foot (1-meter) increments over small ramps.'}\n",
      "{'_id': ObjectId('60627c8ed88eb8658e2a232e'), 'Headline': \"NASA's InSight Flexes Its Arm While Its 'Mole' Hits Pause\", 'Content': \"Now that the lander's robotic arm has helped the mole get underground, it will resume science activities that have been on hold.\"}\n",
      "{'_id': ObjectId('60627c8ed88eb8658e2a232f'), 'Headline': 'NASA Invites Students to Name Mars 2020 Rover', 'Content': \"Through Nov. 1, K-12 students in the U.S. are encouraged to enter an essay contest to name NASA's next Mars rover.\"}\n",
      "{'_id': ObjectId('60627c8ed88eb8658e2a2330'), 'Headline': \"NASA's Perseverance Rover Will Look at Mars Through These 'Eyes'\", 'Content': 'A pair of zoomable cameras will help scientists and rover drivers with high-resolution color images.'}\n",
      "{'_id': ObjectId('60627c8ed88eb8658e2a2331'), 'Headline': \"NASA's Mars 2020 Rover Tests Descent-Stage Separation\", 'Content': \"A crane lifts the rocket-powered descent stage away from NASA's Mars 2020 rover after technicians tested the pyrotechnic charges that separate the two spacecraft.\"}\n",
      "{'_id': ObjectId('60627f23d2618932eb6d0b13'), 'Headline': 'NASA Wins Two Emmy Awards for Interactive Mission Coverage', 'Content': \"NASA-JPL's coverage of the Mars InSight landing earns one of the two wins, making this the NASA center's second Emmy.\"}\n",
      "{'_id': ObjectId('60627f23d2618932eb6d0b14'), 'Headline': \"NASA's Mars 2020 Heads Into the Test Chamber\", 'Content': 'In this time-lapse video taken at JPL, engineers move the Mars 2020 rover into a large vacuum chamber for testing in Mars-like environmental conditions.'}\n",
      "{'_id': ObjectId('60627f23d2618932eb6d0b15'), 'Headline': 'With Mars Methane Mystery Unsolved, Curiosity Serves Scientists a New One: Oxygen', 'Content': 'For the first time in the history of space exploration, scientists have measured the seasonal changes in the gases that fill the air directly above the surface of Gale Crater on Mars. '}\n",
      "{'_id': ObjectId('60627f23d2618932eb6d0b16'), 'Headline': \"8 Martian Postcards to Celebrate Curiosity's Landing Anniversary\", 'Content': 'The NASA rover touched down eight years ago, on Aug. 5, 2012, and will soon be joined by a second rover, Perseverance.'}\n",
      "{'_id': ObjectId('60627f23d2618932eb6d0b17'), 'Headline': \"NASA's Mars Helicopter Attached to Mars 2020 Rover \", 'Content': 'The helicopter will be first aircraft to perform flight tests on another planet.'}\n",
      "{'_id': ObjectId('60627f23d2618932eb6d0b18'), 'Headline': \"NASA's Perseverance Rover Will Carry First Spacesuit Materials to Mars\", 'Content': 'In a Q&A, spacesuit designer Amy Ross explains how five samples, including a piece of helmet visor, will be tested aboard the rover, which is targeting a July 30 launch. '}\n",
      "{'_id': ObjectId('60627f23d2618932eb6d0b19'), 'Headline': \"The Extraordinary Sample-Gathering System of NASA's Perseverance Mars Rover\", 'Content': 'Two astronauts collected Moon rocks on Apollo 11. It will take three robotic systems working together to gather up the first Mars rock samples for return to Earth.'}\n",
      "{'_id': ObjectId('60627f23d2618932eb6d0b1a'), 'Headline': \"NASA's MAVEN Observes Martian Night Sky Pulsing in Ultraviolet Light\", 'Content': 'Vast areas of the Martian night sky pulse in ultraviolet light, according to images from NASA’s MAVEN spacecraft. The results are being used to illuminate complex circulation patterns in the Martian atmosphere.'}\n",
      "{'_id': ObjectId('60627f23d2618932eb6d0b1b'), 'Headline': \"Hear Audio From NASA's Perseverance As It Travels Through Deep Space\", 'Content': \"The first to be rigged with microphones, the agency's latest Mars rover picked up the subtle sounds of its own inner workings during interplanetary flight.\"}\n",
      "{'_id': ObjectId('60627f23d2618932eb6d0b1c'), 'Headline': 'NASA Mars Mission Connects With Bosnian and Herzegovinian Town', 'Content': 'A letter from NASA was presented to the mayor of Jezero, Bosnia-Herzegovina, honoring the connection between the town and Jezero Crater, the Mars 2020 rover landing site.'}\n",
      "{'_id': ObjectId('60627f23d2618932eb6d0b1d'), 'Headline': 'Scientists Explore Outback as Testbed for Mars ', 'Content': \"Australia provides a great place for NASA's Mars 2020 and the ESA-Roscosmos ExoMars scientists to hone techniques in preparation for searching for signs ancient life on Mars.\"}\n",
      "{'_id': ObjectId('60627f23d2618932eb6d0b1e'), 'Headline': \"Three New Views of Mars' Moon Phobos\", 'Content': \"Taken with the infrared camera aboard NASA's Odyssey orbiter, they reveal temperature variations on the small moon as it drifts into and out of Mars’ shadow.\"}\n",
      "{'_id': ObjectId('60627f23d2618932eb6d0b1f'), 'Headline': \"Newfound Martian Aurora Actually the Most Common; Sheds Light on Mars' Changing Climate\", 'Content': 'A type of Martian aurora first identified by NASA’s MAVEN spacecraft in 2016 is actually the most common form of aurora occurring on the Red Planet, according to new results from the mission.'}\n",
      "{'_id': ObjectId('60627f23d2618932eb6d0b20'), 'Headline': \"Robotic Toolkit Added to NASA's Mars 2020 Rover\", 'Content': \"The bit carousel, which lies at the heart of the rover's Sample Caching System, is now aboard NASA's newest rover. \"}\n",
      "{'_id': ObjectId('60627f23d2618932eb6d0b21'), 'Headline': 'NASA Adds Return Sample Scientists to Mars 2020 Leadership Team', 'Content': 'The leadership council for Mars 2020 science added two new members who represent the interests of scientists destined to handle and study the first samples from Red Planet.'}\n",
      "{'_id': ObjectId('60628129d2618932eb6d0b22'), 'Headline': \"The Extraordinary Sample-Gathering System of NASA's Perseverance Mars Rover\", 'Content': 'Two astronauts collected Moon rocks on Apollo 11. It will take three robotic systems working together to gather up the first Mars rock samples for return to Earth.'}\n",
      "{'_id': ObjectId('60628129d2618932eb6d0b23'), 'Headline': 'With Mars Methane Mystery Unsolved, Curiosity Serves Scientists a New One: Oxygen', 'Content': 'For the first time in the history of space exploration, scientists have measured the seasonal changes in the gases that fill the air directly above the surface of Gale Crater on Mars. '}\n",
      "{'_id': ObjectId('60628129d2618932eb6d0b24'), 'Headline': \"NASA's MAVEN Explores Mars to Understand Radio Interference at Earth\", 'Content': 'NASA’s MAVEN spacecraft has discovered “layers” and “rifts” in the electrically charged part of the upper atmosphere of Mars.'}\n",
      "{'_id': ObjectId('60628129d2618932eb6d0b25'), 'Headline': \"NASA's Perseverance Rover Will Peer Beneath Mars' Surface \", 'Content': \"The agency's newest rover will use the first ground-penetrating radar instrument on the Martian surface to help search for signs of past microbial life. \"}\n",
      "{'_id': ObjectId('60628129d2618932eb6d0b26'), 'Headline': 'NASA, ULA Launch Mars 2020 Perseverance Rover Mission to Red Planet', 'Content': \"The agency's Mars 2020 mission is on its way. It will land at Jezero Crater in about seven months, on Feb. 18, 2021. \"}\n",
      "{'_id': ObjectId('60628129d2618932eb6d0b27'), 'Headline': 'New Selfie Shows Curiosity, the Mars Chemist', 'Content': 'The NASA rover performed a special chemistry experiment at the location captured in its newest self-portrait.'}\n",
      "{'_id': ObjectId('60628129d2618932eb6d0b28'), 'Headline': \"NASA's Mars 2020 Rover Completes Its First Drive\", 'Content': 'In a 10-plus-hour marathon, the rover steered, turned and drove in 3-foot (1-meter) increments over small ramps.'}\n",
      "{'_id': ObjectId('60628129d2618932eb6d0b29'), 'Headline': \"NASA's Mars 2020 Comes Full Circle\", 'Content': \"Aiming to pinpoint the Martian vehicle's center of gravity, engineers took NASA's 2,300-pound Mars 2020 rover for a spin in the clean room at JPL. \"}\n",
      "{'_id': ObjectId('60628129d2618932eb6d0b2a'), 'Headline': 'The MarCO Mission Comes to an End', 'Content': 'The pair of briefcase-sized satellites made history when they sailed past Mars in 2019.'}\n",
      "{'_id': ObjectId('60628129d2618932eb6d0b2b'), 'Headline': \"Virginia Middle School Student Earns Honor of Naming NASA's Next Mars Rover\", 'Content': 'NASA chose a seventh-grader from Virginia as winner of the agency\\'s \"Name the Rover\" essay contest. Alexander Mather\\'s entry for \"Perseverance\" was voted tops among 28,000 entries. '}\n",
      "{'_id': ObjectId('60628129d2618932eb6d0b2c'), 'Headline': \"What's Mars Solar Conjunction, and Why Does It Matter?\", 'Content': 'NASA spacecraft at Mars are going to be on their own for a few weeks when the Sun comes between Mars and Earth, interrupting communications.'}\n",
      "{'_id': ObjectId('60628129d2618932eb6d0b2d'), 'Headline': \"NASA's MAVEN Maps Winds in the Martian Upper Atmosphere that Mirror the Terrain Below and Gives Clues to Martian Climate\", 'Content': 'Researchers have created the first map of wind circulation in the upper atmosphere of a planet besides Earth, using data from NASA’s MAVEN spacecraft that were collected during the last two years.'}\n",
      "{'_id': ObjectId('60628129d2618932eb6d0b2e'), 'Headline': \"NASA's Ingenuity Mars Helicopter Recharges Its Batteries in Flight\", 'Content': 'Headed to the Red Planet with the Perseverance rover, the pioneering helicopter is powered up for the first time in interplanetary space as part of a systems check.'}\n",
      "{'_id': ObjectId('60628129d2618932eb6d0b2f'), 'Headline': 'Mars Is Getting a New Robotic Meteorologist', 'Content': \"Sensors on NASA's Perseverance will help prepare for future human exploration by taking weather measurements and studying dust particles.\"}\n",
      "{'_id': ObjectId('60628129d2618932eb6d0b30'), 'Headline': \"Alabama High School Student Names NASA's Mars Helicopter\", 'Content': \"Vaneeza Rupani's essay was chosen as the name for the small spacecraft, which will mark NASA's first attempt at powered flight on another planet.\"}\n",
      "{'_id': ObjectId('60628b8e596adbe38796d202'), 'Headline': \"NASA's MAVEN Explores Mars to Understand Radio Interference at Earth\", 'Content': 'NASA’s MAVEN spacecraft has discovered “layers” and “rifts” in the electrically charged part of the upper atmosphere of Mars.'}\n",
      "{'_id': ObjectId('60628b8e596adbe38796d203'), 'Headline': \"NASA's Mars Perseverance Rover Gets Its Sample Handling System\", 'Content': 'The system will be collecting and storing Martian rock and soil. Its installation marks another milestone in the march toward the July launch period.'}\n",
      "{'_id': ObjectId('60628b8e596adbe38796d204'), 'Headline': \"NASA's Treasure Map for Water Ice on Mars\", 'Content': 'A new study identifies frozen water just below the Martian surface, where astronauts could easily dig it up.'}\n",
      "{'_id': ObjectId('60628b8e596adbe38796d205'), 'Headline': 'NASA Invites Public to Share Excitement of Mars 2020 Perseverance Rover Launch', 'Content': 'There are lots of ways to participate in the historic event, which is targeted for July 30.'}\n",
      "{'_id': ObjectId('60628b8e596adbe38796d206'), 'Headline': \"How NASA's Mars Helicopter Will Reach the Red Planet's Surface\", 'Content': 'The small craft will seek to prove that powered, controlled flight is possible on another planet. But just getting it onto the surface of Mars will take a whole lot of ingenuity.'}\n",
      "{'_id': ObjectId('60628b8e596adbe38796d207'), 'Headline': \"Mars InSight Lander to Push on Top of the 'Mole'\", 'Content': 'Engineers have a plan for pushing down on the heat probe, which has been stuck at the Martian surface for a year.'}\n",
      "{'_id': ObjectId('60628b8e596adbe38796d208'), 'Headline': \"A New Video Captures the Science of NASA's Perseverance Mars Rover\", 'Content': 'With a targeted launch date of July 30, the next robotic scientist NASA is sending to the to the Red Planet has big ambitions.'}\n",
      "{'_id': ObjectId('60628b8e596adbe38796d209'), 'Headline': 'Naming a NASA Mars Rover Can Change Your Life', 'Content': 'Want to name the robotic scientist NASA is sending to Mars in 2020? The student who named Curiosity — the rover currently exploring Mars — will tell you this is an opportunity worth taking.'}\n",
      "{'_id': ObjectId('60628b8e596adbe38796d20a'), 'Headline': \"Celebrate Mars Reconnaissance Orbiter's Views From Above\", 'Content': 'Marking its 15th anniversary since launch, one of the oldest spacecraft at the Red Planet has provided glimpses of dust devils, avalanches, and more.'}\n",
      "{'_id': ObjectId('60628b8e596adbe38796d20b'), 'Headline': \"Q&A with the Student Who Named Ingenuity, NASA's Mars Helicopter\", 'Content': 'As a longtime fan of space exploration, Vaneeza Rupani appreciates the creativity and collaboration involved with trying to fly on another planet.'}\n",
      "{'_id': ObjectId('60628b8e596adbe38796d20c'), 'Headline': 'NASA to Broadcast Mars 2020 Perseverance Launch, Prelaunch Activities', 'Content': 'Starting July 27, news activities will cover everything from mission engineering and science to returning samples from Mars to, of course, the launch itself.'}\n",
      "{'_id': ObjectId('60628b8e596adbe38796d20d'), 'Headline': 'Independent Review Indicates NASA Prepared for Mars Sample Return Campaign', 'Content': 'NASA released an independent review report Tuesday indicating the agency is well positioned for its Mars Sample Return campaign to bring pristine samples from Mars to Earth for scientific study.'}\n",
      "{'_id': ObjectId('60628b8e596adbe38796d20e'), 'Headline': \"Virginia Middle School Student Earns Honor of Naming NASA's Next Mars Rover\", 'Content': 'NASA chose a seventh-grader from Virginia as winner of the agency\\'s \"Name the Rover\" essay contest. Alexander Mather\\'s entry for \"Perseverance\" was voted tops among 28,000 entries. '}\n",
      "{'_id': ObjectId('60628b8e596adbe38796d20f'), 'Headline': 'Heat and Dust Help Launch Martian Water Into Space, Scientists Find', 'Content': 'Scientists using an instrument aboard NASA’s Mars Atmosphere and Volatile EvolutioN, or MAVEN, spacecraft have discovered that water vapor near the surface of the Red Planet is lofted higher into the atmosphere than anyone expected was possible. '}\n",
      "{'_id': ObjectId('60628b8e596adbe38796d210'), 'Headline': \"What's Mars Solar Conjunction, and Why Does It Matter?\", 'Content': 'NASA spacecraft at Mars are going to be on their own for a few weeks when the Sun comes between Mars and Earth, interrupting communications.'}\n",
      "{'_id': ObjectId('60632a181099af581c21d2af'), 'Headline': 'Mars Scientists Investigate Ancient Life in Australia', 'Content': \"Teams with NASA's Mars 2020 and ESA's ExoMars practiced hunting for fossilized microbial life in the Australian Outback in preparation for their Red Planet missions. \"}\n",
      "{'_id': ObjectId('60632a181099af581c21d2b0'), 'Headline': \"NASA's Perseverance Rover Attached to Atlas V Rocket\", 'Content': 'Ready for its launch later in the month, the Mars-bound rover will touch terra firma no more.'}\n",
      "{'_id': ObjectId('60632a181099af581c21d2b1'), 'Headline': 'Global Storms on Mars Launch Dust Towers Into the Sky', 'Content': 'A Mars Dust Tower Stands Out Dust storms are common on Mars. But every decade or so, something unpredictable happens: a series of runaway storms break out, covering the entire planet in a dusty haze.'}\n",
      "{'_id': ObjectId('60632a181099af581c21d2b2'), 'Headline': \"NASA's Mars Helicopter Attached to Mars 2020 Rover \", 'Content': 'The helicopter will be first aircraft to perform flight tests on another planet.'}\n",
      "{'_id': ObjectId('60632a181099af581c21d2b3'), 'Headline': \"NASA's Perseverance Rover Will Peer Beneath Mars' Surface \", 'Content': \"The agency's newest rover will use the first ground-penetrating radar instrument on the Martian surface to help search for signs of past microbial life. \"}\n",
      "{'_id': ObjectId('60632a181099af581c21d2b4'), 'Headline': \"NASA's Mars Perseverance Rover Gets Its Sample Handling System\", 'Content': 'The system will be collecting and storing Martian rock and soil. Its installation marks another milestone in the march toward the July launch period.'}\n",
      "{'_id': ObjectId('60632a181099af581c21d2b5'), 'Headline': \"Nine Finalists Chosen in NASA's Mars 2020 Rover Naming Contest\", 'Content': \"Nine finalists have been chosen in the essay contest for K-12 students across U.S. to name NASA's next Mars rover. Now you can help by voting for your favorite. \"}\n",
      "{'_id': ObjectId('60632a181099af581c21d2b6'), 'Headline': \"NASA's Curiosity Rover Finds an Ancient Oasis on Mars\", 'Content': \"New evidence suggests salty, shallow ponds once dotted a Martian crater — a sign of the planet's drying climate.\"}\n",
      "{'_id': ObjectId('60632a181099af581c21d2b7'), 'Headline': 'Two of a Space Kind: Apollo 12 and Mars 2020', 'Content': 'Apollo 12 and the upcoming Mars 2020 mission may be separated by half a century, but they share several goals unique in the annals of space exploration.'}\n",
      "{'_id': ObjectId('60632a181099af581c21d2b8'), 'Headline': \"NASA's Curiosity Keeps Rolling As Team Operates Rover From Home\", 'Content': 'The team has learned to meet new challenges as they work remotely on the Mars mission.'}\n",
      "{'_id': ObjectId('60632a181099af581c21d2b9'), 'Headline': \"3 Things We've Learned From NASA's Mars InSight \", 'Content': 'Scientists are finding new mysteries since the geophysics mission landed two years ago.'}\n",
      "{'_id': ObjectId('60632a181099af581c21d2ba'), 'Headline': 'NASA Perseverance Mars Rover Scientists Train in the Nevada Desert', 'Content': \"Team members searched for signs of ancient microscopic life there, just as NASA's latest rover will on the Red Planet next year.\"}\n",
      "{'_id': ObjectId('60632a181099af581c21d2bb'), 'Headline': \"Hear Audio From NASA's Perseverance As It Travels Through Deep Space\", 'Content': \"The first to be rigged with microphones, the agency's latest Mars rover picked up the subtle sounds of its own inner workings during interplanetary flight.\"}\n",
      "{'_id': ObjectId('60632a181099af581c21d2bc'), 'Headline': 'Sensors on Mars 2020 Spacecraft Answer Long-Distance Call From Earth', 'Content': \"Instruments tailored to collect data during the descent of NASA's next rover through the Red Planet's atmosphere have been checked in flight.\"}\n",
      "{'_id': ObjectId('60632a181099af581c21d2bd'), 'Headline': \"Robotic Toolkit Added to NASA's Mars 2020 Rover\", 'Content': \"The bit carousel, which lies at the heart of the rover's Sample Caching System, is now aboard NASA's newest rover. \"}\n",
      "{'_id': ObjectId('606335e41836950a41e72537'), 'Headline': \"NASA's Mars Helicopter Attached to Mars 2020 Rover \", 'Content': 'The helicopter will be first aircraft to perform flight tests on another planet.'}\n",
      "{'_id': ObjectId('606335e41836950a41e72538'), 'Headline': \"Follow NASA's Perseverance Rover in Real Time on Its Way to Mars\", 'Content': \"A crisply rendered web application can show you where the agency's Mars 2020 mission is right now as it makes its way to the Red Planet for a Feb. 18, 2021, landing.\"}\n",
      "{'_id': ObjectId('606335e41836950a41e72539'), 'Headline': 'Mars 2020 Unwrapped and Ready for More Testing', 'Content': \"In time-lapse video, bunny-suited engineers remove the inner layer of protective foil on NASA's Mars 2020 rover after it was relocated for testing.\"}\n",
      "{'_id': ObjectId('606335e41836950a41e7253a'), 'Headline': 'NASA Administrator Statement on Moon to Mars Initiative, FY 2021 Budget', 'Content': \"Jim Bridenstine addresses NASA's ambitious plans for the coming years, including Mars Sample Return.\"}\n",
      "{'_id': ObjectId('606335e41836950a41e7253b'), 'Headline': \"NASA's Curiosity Takes Selfie With 'Mary Anning' on the Red Planet\", 'Content': 'The Mars rover has drilled three samples of rock in this clay-enriched region since arriving in July.'}\n",
      "{'_id': ObjectId('606335e41836950a41e7253c'), 'Headline': \"How NASA's Perseverance Mars Team Adjusted to Work in the Time of Coronavirus \", 'Content': 'Like much of the rest of the world, the Mars rover team is pushing forward with its mission-critical work while putting the health and safety of their colleagues and community first.'}\n",
      "{'_id': ObjectId('606335e41836950a41e7253d'), 'Headline': 'Heat and Dust Help Launch Martian Water Into Space, Scientists Find', 'Content': 'Scientists using an instrument aboard NASA’s Mars Atmosphere and Volatile EvolutioN, or MAVEN, spacecraft have discovered that water vapor near the surface of the Red Planet is lofted higher into the atmosphere than anyone expected was possible. '}\n",
      "{'_id': ObjectId('606335e41836950a41e7253e'), 'Headline': \"While Stargazing on Mars, NASA's Curiosity Rover Spots Earth and Venus\", 'Content': \"This new portrait of the Red Planet's neighbors was taken during a time when there's more dust in the air on Mars.\"}\n",
      "{'_id': ObjectId('606335e41836950a41e7253f'), 'Headline': \"A Year of Surprising Science From NASA's InSight Mars Mission\", 'Content': \"A batch of new papers summarizes the lander's findings above and below the surface of the Red Planet.\"}\n",
      "{'_id': ObjectId('606335e41836950a41e72540'), 'Headline': 'MOXIE Could Help Future Rockets Launch Off Mars', 'Content': \"NASA's Perseverance rover carries a device to convert Martian air into oxygen that, if produced on a larger scale, could be used not just for breathing, but also for fuel.\"}\n",
      "{'_id': ObjectId('606335e41836950a41e72541'), 'Headline': 'NASA Perseverance Mars Rover Scientists Train in the Nevada Desert', 'Content': \"Team members searched for signs of ancient microscopic life there, just as NASA's latest rover will on the Red Planet next year.\"}\n",
      "{'_id': ObjectId('606335e41836950a41e72542'), 'Headline': \"NASA's New Mars Rover Is Ready for Space Lasers\", 'Content': 'Perseverance is one of a few Mars spacecraft carrying laser retroreflectors. The devices could provide new science and safer Mars landings in the future.'}\n",
      "{'_id': ObjectId('606335e41836950a41e72543'), 'Headline': \"Curiosity Mars Rover's Summer Road Trip Has Begun\", 'Content': 'After more than a year in the \"clay-bearing unit,\" Curiosity is making a mile-long journey around some deep sand so that it can explore higher up Mount Sharp.'}\n",
      "{'_id': ObjectId('606335e41836950a41e72544'), 'Headline': 'Two of a Space Kind: Apollo 12 and Mars 2020', 'Content': 'Apollo 12 and the upcoming Mars 2020 mission may be separated by half a century, but they share several goals unique in the annals of space exploration.'}\n",
      "{'_id': ObjectId('606335e41836950a41e72545'), 'Headline': 'Space History Is Made in This NASA Robot Factory', 'Content': \"From rockets to rovers, JPL's Spacecraft Assembly Facility has been at the center of robotic spaceflight. Here's a closer look at what makes it so special.\"}\n"
     ]
    }
   ],
   "source": [
    "# Verify database results \n",
    "results = collection.find()\n",
    "for result in results:\n",
    "    print(result)"
   ]
  },
  {
   "cell_type": "code",
   "execution_count": 9,
   "metadata": {},
   "outputs": [],
   "source": [
    "# browser.quit()"
   ]
  },
  {
   "cell_type": "markdown",
   "metadata": {},
   "source": [
    "## JPL Mars Space Images Scraping\n",
    "\n",
    "[Featured Space Image site](https://spaceimages-mars.com)"
   ]
  },
  {
   "cell_type": "code",
   "execution_count": 10,
   "metadata": {},
   "outputs": [
    {
     "name": "stderr",
     "output_type": "stream",
     "text": [
      "[WDM] - ====== WebDriver manager ======\n",
      "[WDM] - Current google-chrome version is 89.0.4389\n",
      "[WDM] - Get LATEST driver version for 89.0.4389\n"
     ]
    },
    {
     "name": "stdout",
     "output_type": "stream",
     "text": [
      "\n",
      "\n"
     ]
    },
    {
     "name": "stderr",
     "output_type": "stream",
     "text": [
      "[WDM] - Driver [C:\\Users\\khagl\\.wdm\\drivers\\chromedriver\\win32\\89.0.4389.23\\chromedriver.exe] found in cache\n"
     ]
    }
   ],
   "source": [
    "#Define executable path and initialize the browser\n",
    "executable_path = {'executable_path': ChromeDriverManager().install()}\n",
    "browser = Browser('chrome', **executable_path, headless=False)"
   ]
  },
  {
   "cell_type": "code",
   "execution_count": 11,
   "metadata": {},
   "outputs": [],
   "source": [
    "# Initialize the browser\n",
    "url = 'https://spaceimages-mars.com/'\n",
    "browser.visit(url)"
   ]
  },
  {
   "cell_type": "code",
   "execution_count": 12,
   "metadata": {},
   "outputs": [],
   "source": [
    "#Parse into Beautiful Soup object\n",
    "image_html = browser.html\n",
    "soup = BeautifulSoup(image_html, \"html.parser\")"
   ]
  },
  {
   "cell_type": "code",
   "execution_count": 13,
   "metadata": {
    "scrolled": true
   },
   "outputs": [
    {
     "name": "stdout",
     "output_type": "stream",
     "text": [
      "image/featured/mars1.jpg\n"
     ]
    }
   ],
   "source": [
    "# Find the image url\n",
    "image_path = soup.find(\"img\", class_ = \"headerimage\")[\"src\"]\n",
    "print(image_path)"
   ]
  },
  {
   "cell_type": "code",
   "execution_count": 14,
   "metadata": {},
   "outputs": [
    {
     "name": "stdout",
     "output_type": "stream",
     "text": [
      "https://spaceimages-mars.com/image/featured/mars1.jpg\n"
     ]
    }
   ],
   "source": [
    "featured_img_url = \"https://spaceimages-mars.com/\"+image_path\n",
    "print(featured_img_url)"
   ]
  },
  {
   "cell_type": "markdown",
   "metadata": {},
   "source": [
    "## Mars Facts\n",
    "\n",
    "[Mars Facts site](https://galaxyfacts-mars.com)"
   ]
  },
  {
   "cell_type": "code",
   "execution_count": 15,
   "metadata": {},
   "outputs": [
    {
     "data": {
      "text/plain": [
       "[                         0                1                2\n",
       " 0  Mars - Earth Comparison             Mars            Earth\n",
       " 1                Diameter:         6,779 km        12,742 km\n",
       " 2                    Mass:  6.39 × 10^23 kg  5.97 × 10^24 kg\n",
       " 3                   Moons:                2                1\n",
       " 4       Distance from Sun:   227,943,824 km   149,598,262 km\n",
       " 5          Length of Year:   687 Earth days      365.24 days\n",
       " 6             Temperature:     -87 to -5 °C      -88 to 58°C,\n",
       "                       0                              1\n",
       " 0  Equatorial Diameter:                       6,792 km\n",
       " 1       Polar Diameter:                       6,752 km\n",
       " 2                 Mass:  6.39 × 10^23 kg (0.11 Earths)\n",
       " 3                Moons:          2 ( Phobos & Deimos )\n",
       " 4       Orbit Distance:       227,943,824 km (1.38 AU)\n",
       " 5         Orbit Period:           687 days (1.9 years)\n",
       " 6  Surface Temperature:                   -87 to -5 °C\n",
       " 7         First Record:              2nd millennium BC\n",
       " 8          Recorded By:           Egyptian astronomers]"
      ]
     },
     "execution_count": 15,
     "metadata": {},
     "output_type": "execute_result"
    }
   ],
   "source": [
    "#Scrape the table using pandas\n",
    "url = \"https://galaxyfacts-mars.com/\"\n",
    "    \n",
    "tables = pd.read_html(url)\n",
    "\n",
    "tables"
   ]
  },
  {
   "cell_type": "code",
   "execution_count": 16,
   "metadata": {},
   "outputs": [
    {
     "data": {
      "text/html": [
       "<div>\n",
       "<style scoped>\n",
       "    .dataframe tbody tr th:only-of-type {\n",
       "        vertical-align: middle;\n",
       "    }\n",
       "\n",
       "    .dataframe tbody tr th {\n",
       "        vertical-align: top;\n",
       "    }\n",
       "\n",
       "    .dataframe thead th {\n",
       "        text-align: right;\n",
       "    }\n",
       "</style>\n",
       "<table border=\"1\" class=\"dataframe\">\n",
       "  <thead>\n",
       "    <tr style=\"text-align: right;\">\n",
       "      <th></th>\n",
       "      <th>0</th>\n",
       "      <th>1</th>\n",
       "      <th>2</th>\n",
       "    </tr>\n",
       "  </thead>\n",
       "  <tbody>\n",
       "    <tr>\n",
       "      <th>0</th>\n",
       "      <td>Mars - Earth Comparison</td>\n",
       "      <td>Mars</td>\n",
       "      <td>Earth</td>\n",
       "    </tr>\n",
       "    <tr>\n",
       "      <th>1</th>\n",
       "      <td>Diameter:</td>\n",
       "      <td>6,779 km</td>\n",
       "      <td>12,742 km</td>\n",
       "    </tr>\n",
       "    <tr>\n",
       "      <th>2</th>\n",
       "      <td>Mass:</td>\n",
       "      <td>6.39 × 10^23 kg</td>\n",
       "      <td>5.97 × 10^24 kg</td>\n",
       "    </tr>\n",
       "    <tr>\n",
       "      <th>3</th>\n",
       "      <td>Moons:</td>\n",
       "      <td>2</td>\n",
       "      <td>1</td>\n",
       "    </tr>\n",
       "    <tr>\n",
       "      <th>4</th>\n",
       "      <td>Distance from Sun:</td>\n",
       "      <td>227,943,824 km</td>\n",
       "      <td>149,598,262 km</td>\n",
       "    </tr>\n",
       "  </tbody>\n",
       "</table>\n",
       "</div>"
      ],
      "text/plain": [
       "                         0                1                2\n",
       "0  Mars - Earth Comparison             Mars            Earth\n",
       "1                Diameter:         6,779 km        12,742 km\n",
       "2                    Mass:  6.39 × 10^23 kg  5.97 × 10^24 kg\n",
       "3                   Moons:                2                1\n",
       "4       Distance from Sun:   227,943,824 km   149,598,262 km"
      ]
     },
     "execution_count": 16,
     "metadata": {},
     "output_type": "execute_result"
    }
   ],
   "source": [
    "# First Table \n",
    "df1 = tables[0]\n",
    "df1.head()"
   ]
  },
  {
   "cell_type": "code",
   "execution_count": 17,
   "metadata": {},
   "outputs": [
    {
     "data": {
      "text/html": [
       "<div>\n",
       "<style scoped>\n",
       "    .dataframe tbody tr th:only-of-type {\n",
       "        vertical-align: middle;\n",
       "    }\n",
       "\n",
       "    .dataframe tbody tr th {\n",
       "        vertical-align: top;\n",
       "    }\n",
       "\n",
       "    .dataframe thead th {\n",
       "        text-align: right;\n",
       "    }\n",
       "</style>\n",
       "<table border=\"1\" class=\"dataframe\">\n",
       "  <thead>\n",
       "    <tr style=\"text-align: right;\">\n",
       "      <th></th>\n",
       "      <th>0</th>\n",
       "      <th>1</th>\n",
       "    </tr>\n",
       "  </thead>\n",
       "  <tbody>\n",
       "    <tr>\n",
       "      <th>0</th>\n",
       "      <td>Mars - Earth Comparison</td>\n",
       "      <td>Mars</td>\n",
       "    </tr>\n",
       "    <tr>\n",
       "      <th>1</th>\n",
       "      <td>Diameter:</td>\n",
       "      <td>6,779 km</td>\n",
       "    </tr>\n",
       "    <tr>\n",
       "      <th>2</th>\n",
       "      <td>Mass:</td>\n",
       "      <td>6.39 × 10^23 kg</td>\n",
       "    </tr>\n",
       "    <tr>\n",
       "      <th>3</th>\n",
       "      <td>Moons:</td>\n",
       "      <td>2</td>\n",
       "    </tr>\n",
       "    <tr>\n",
       "      <th>4</th>\n",
       "      <td>Distance from Sun:</td>\n",
       "      <td>227,943,824 km</td>\n",
       "    </tr>\n",
       "  </tbody>\n",
       "</table>\n",
       "</div>"
      ],
      "text/plain": [
       "                         0                1\n",
       "0  Mars - Earth Comparison             Mars\n",
       "1                Diameter:         6,779 km\n",
       "2                    Mass:  6.39 × 10^23 kg\n",
       "3                   Moons:                2\n",
       "4       Distance from Sun:   227,943,824 km"
      ]
     },
     "execution_count": 17,
     "metadata": {},
     "output_type": "execute_result"
    }
   ],
   "source": [
    "# Drop the Earth column\n",
    "df1 = df1.drop([2], axis=1)\n",
    "df1.head()"
   ]
  },
  {
   "cell_type": "code",
   "execution_count": 18,
   "metadata": {},
   "outputs": [
    {
     "data": {
      "text/html": [
       "<div>\n",
       "<style scoped>\n",
       "    .dataframe tbody tr th:only-of-type {\n",
       "        vertical-align: middle;\n",
       "    }\n",
       "\n",
       "    .dataframe tbody tr th {\n",
       "        vertical-align: top;\n",
       "    }\n",
       "\n",
       "    .dataframe thead th {\n",
       "        text-align: right;\n",
       "    }\n",
       "</style>\n",
       "<table border=\"1\" class=\"dataframe\">\n",
       "  <thead>\n",
       "    <tr style=\"text-align: right;\">\n",
       "      <th></th>\n",
       "      <th>Fact</th>\n",
       "      <th>Data</th>\n",
       "    </tr>\n",
       "  </thead>\n",
       "  <tbody>\n",
       "    <tr>\n",
       "      <th>0</th>\n",
       "      <td>Mars - Earth Comparison</td>\n",
       "      <td>Mars</td>\n",
       "    </tr>\n",
       "    <tr>\n",
       "      <th>1</th>\n",
       "      <td>Diameter:</td>\n",
       "      <td>6,779 km</td>\n",
       "    </tr>\n",
       "    <tr>\n",
       "      <th>2</th>\n",
       "      <td>Mass:</td>\n",
       "      <td>6.39 × 10^23 kg</td>\n",
       "    </tr>\n",
       "    <tr>\n",
       "      <th>3</th>\n",
       "      <td>Moons:</td>\n",
       "      <td>2</td>\n",
       "    </tr>\n",
       "    <tr>\n",
       "      <th>4</th>\n",
       "      <td>Distance from Sun:</td>\n",
       "      <td>227,943,824 km</td>\n",
       "    </tr>\n",
       "  </tbody>\n",
       "</table>\n",
       "</div>"
      ],
      "text/plain": [
       "                      Fact             Data\n",
       "0  Mars - Earth Comparison             Mars\n",
       "1                Diameter:         6,779 km\n",
       "2                    Mass:  6.39 × 10^23 kg\n",
       "3                   Moons:                2\n",
       "4       Distance from Sun:   227,943,824 km"
      ]
     },
     "execution_count": 18,
     "metadata": {},
     "output_type": "execute_result"
    }
   ],
   "source": [
    "# Rename headers\n",
    "df1 = df1.rename(columns = {0:'Fact', 1:'Data'})\n",
    "df1.head()"
   ]
  },
  {
   "cell_type": "code",
   "execution_count": 19,
   "metadata": {},
   "outputs": [
    {
     "data": {
      "text/html": [
       "<div>\n",
       "<style scoped>\n",
       "    .dataframe tbody tr th:only-of-type {\n",
       "        vertical-align: middle;\n",
       "    }\n",
       "\n",
       "    .dataframe tbody tr th {\n",
       "        vertical-align: top;\n",
       "    }\n",
       "\n",
       "    .dataframe thead th {\n",
       "        text-align: right;\n",
       "    }\n",
       "</style>\n",
       "<table border=\"1\" class=\"dataframe\">\n",
       "  <thead>\n",
       "    <tr style=\"text-align: right;\">\n",
       "      <th></th>\n",
       "      <th>Fact</th>\n",
       "      <th>Data</th>\n",
       "    </tr>\n",
       "  </thead>\n",
       "  <tbody>\n",
       "    <tr>\n",
       "      <th>1</th>\n",
       "      <td>Diameter:</td>\n",
       "      <td>6,779 km</td>\n",
       "    </tr>\n",
       "    <tr>\n",
       "      <th>2</th>\n",
       "      <td>Mass:</td>\n",
       "      <td>6.39 × 10^23 kg</td>\n",
       "    </tr>\n",
       "    <tr>\n",
       "      <th>3</th>\n",
       "      <td>Moons:</td>\n",
       "      <td>2</td>\n",
       "    </tr>\n",
       "    <tr>\n",
       "      <th>4</th>\n",
       "      <td>Distance from Sun:</td>\n",
       "      <td>227,943,824 km</td>\n",
       "    </tr>\n",
       "    <tr>\n",
       "      <th>5</th>\n",
       "      <td>Length of Year:</td>\n",
       "      <td>687 Earth days</td>\n",
       "    </tr>\n",
       "    <tr>\n",
       "      <th>6</th>\n",
       "      <td>Temperature:</td>\n",
       "      <td>-87 to -5 °C</td>\n",
       "    </tr>\n",
       "  </tbody>\n",
       "</table>\n",
       "</div>"
      ],
      "text/plain": [
       "                 Fact             Data\n",
       "1           Diameter:         6,779 km\n",
       "2               Mass:  6.39 × 10^23 kg\n",
       "3              Moons:                2\n",
       "4  Distance from Sun:   227,943,824 km\n",
       "5     Length of Year:   687 Earth days\n",
       "6        Temperature:     -87 to -5 °C"
      ]
     },
     "execution_count": 19,
     "metadata": {},
     "output_type": "execute_result"
    }
   ],
   "source": [
    "# Drop the first row\n",
    "df1[df1.Fact != \"Mars - Earth Comparison\"]\n"
   ]
  },
  {
   "cell_type": "code",
   "execution_count": 20,
   "metadata": {},
   "outputs": [
    {
     "data": {
      "text/html": [
       "<div>\n",
       "<style scoped>\n",
       "    .dataframe tbody tr th:only-of-type {\n",
       "        vertical-align: middle;\n",
       "    }\n",
       "\n",
       "    .dataframe tbody tr th {\n",
       "        vertical-align: top;\n",
       "    }\n",
       "\n",
       "    .dataframe thead th {\n",
       "        text-align: right;\n",
       "    }\n",
       "</style>\n",
       "<table border=\"1\" class=\"dataframe\">\n",
       "  <thead>\n",
       "    <tr style=\"text-align: right;\">\n",
       "      <th></th>\n",
       "      <th>0</th>\n",
       "      <th>1</th>\n",
       "    </tr>\n",
       "  </thead>\n",
       "  <tbody>\n",
       "    <tr>\n",
       "      <th>0</th>\n",
       "      <td>Equatorial Diameter:</td>\n",
       "      <td>6,792 km</td>\n",
       "    </tr>\n",
       "    <tr>\n",
       "      <th>1</th>\n",
       "      <td>Polar Diameter:</td>\n",
       "      <td>6,752 km</td>\n",
       "    </tr>\n",
       "    <tr>\n",
       "      <th>2</th>\n",
       "      <td>Mass:</td>\n",
       "      <td>6.39 × 10^23 kg (0.11 Earths)</td>\n",
       "    </tr>\n",
       "    <tr>\n",
       "      <th>3</th>\n",
       "      <td>Moons:</td>\n",
       "      <td>2 ( Phobos &amp; Deimos )</td>\n",
       "    </tr>\n",
       "    <tr>\n",
       "      <th>4</th>\n",
       "      <td>Orbit Distance:</td>\n",
       "      <td>227,943,824 km (1.38 AU)</td>\n",
       "    </tr>\n",
       "  </tbody>\n",
       "</table>\n",
       "</div>"
      ],
      "text/plain": [
       "                      0                              1\n",
       "0  Equatorial Diameter:                       6,792 km\n",
       "1       Polar Diameter:                       6,752 km\n",
       "2                 Mass:  6.39 × 10^23 kg (0.11 Earths)\n",
       "3                Moons:          2 ( Phobos & Deimos )\n",
       "4       Orbit Distance:       227,943,824 km (1.38 AU)"
      ]
     },
     "execution_count": 20,
     "metadata": {},
     "output_type": "execute_result"
    }
   ],
   "source": [
    "# Second Table \n",
    "df2 = tables[1]\n",
    "df2.head()"
   ]
  },
  {
   "cell_type": "code",
   "execution_count": 21,
   "metadata": {},
   "outputs": [
    {
     "data": {
      "text/html": [
       "<div>\n",
       "<style scoped>\n",
       "    .dataframe tbody tr th:only-of-type {\n",
       "        vertical-align: middle;\n",
       "    }\n",
       "\n",
       "    .dataframe tbody tr th {\n",
       "        vertical-align: top;\n",
       "    }\n",
       "\n",
       "    .dataframe thead th {\n",
       "        text-align: right;\n",
       "    }\n",
       "</style>\n",
       "<table border=\"1\" class=\"dataframe\">\n",
       "  <thead>\n",
       "    <tr style=\"text-align: right;\">\n",
       "      <th></th>\n",
       "      <th>Fact</th>\n",
       "      <th>Data</th>\n",
       "    </tr>\n",
       "  </thead>\n",
       "  <tbody>\n",
       "    <tr>\n",
       "      <th>0</th>\n",
       "      <td>Equatorial Diameter:</td>\n",
       "      <td>6,792 km</td>\n",
       "    </tr>\n",
       "    <tr>\n",
       "      <th>1</th>\n",
       "      <td>Polar Diameter:</td>\n",
       "      <td>6,752 km</td>\n",
       "    </tr>\n",
       "    <tr>\n",
       "      <th>2</th>\n",
       "      <td>Mass:</td>\n",
       "      <td>6.39 × 10^23 kg (0.11 Earths)</td>\n",
       "    </tr>\n",
       "    <tr>\n",
       "      <th>3</th>\n",
       "      <td>Moons:</td>\n",
       "      <td>2 ( Phobos &amp; Deimos )</td>\n",
       "    </tr>\n",
       "    <tr>\n",
       "      <th>4</th>\n",
       "      <td>Orbit Distance:</td>\n",
       "      <td>227,943,824 km (1.38 AU)</td>\n",
       "    </tr>\n",
       "  </tbody>\n",
       "</table>\n",
       "</div>"
      ],
      "text/plain": [
       "                   Fact                           Data\n",
       "0  Equatorial Diameter:                       6,792 km\n",
       "1       Polar Diameter:                       6,752 km\n",
       "2                 Mass:  6.39 × 10^23 kg (0.11 Earths)\n",
       "3                Moons:          2 ( Phobos & Deimos )\n",
       "4       Orbit Distance:       227,943,824 km (1.38 AU)"
      ]
     },
     "execution_count": 21,
     "metadata": {},
     "output_type": "execute_result"
    }
   ],
   "source": [
    "# Rename headers\n",
    "df2 = df2.rename(columns = {0:'Fact', 1:'Data'})\n",
    "df2.head()"
   ]
  },
  {
   "cell_type": "code",
   "execution_count": 22,
   "metadata": {},
   "outputs": [
    {
     "data": {
      "text/html": [
       "<div>\n",
       "<style scoped>\n",
       "    .dataframe tbody tr th:only-of-type {\n",
       "        vertical-align: middle;\n",
       "    }\n",
       "\n",
       "    .dataframe tbody tr th {\n",
       "        vertical-align: top;\n",
       "    }\n",
       "\n",
       "    .dataframe thead th {\n",
       "        text-align: right;\n",
       "    }\n",
       "</style>\n",
       "<table border=\"1\" class=\"dataframe\">\n",
       "  <thead>\n",
       "    <tr style=\"text-align: right;\">\n",
       "      <th></th>\n",
       "      <th>Fact</th>\n",
       "      <th>Data</th>\n",
       "    </tr>\n",
       "  </thead>\n",
       "  <tbody>\n",
       "    <tr>\n",
       "      <th>0</th>\n",
       "      <td>Mars - Earth Comparison</td>\n",
       "      <td>Mars</td>\n",
       "    </tr>\n",
       "    <tr>\n",
       "      <th>1</th>\n",
       "      <td>Diameter:</td>\n",
       "      <td>6,779 km</td>\n",
       "    </tr>\n",
       "    <tr>\n",
       "      <th>2</th>\n",
       "      <td>Mass:</td>\n",
       "      <td>6.39 × 10^23 kg</td>\n",
       "    </tr>\n",
       "    <tr>\n",
       "      <th>3</th>\n",
       "      <td>Moons:</td>\n",
       "      <td>2</td>\n",
       "    </tr>\n",
       "    <tr>\n",
       "      <th>4</th>\n",
       "      <td>Distance from Sun:</td>\n",
       "      <td>227,943,824 km</td>\n",
       "    </tr>\n",
       "    <tr>\n",
       "      <th>5</th>\n",
       "      <td>Length of Year:</td>\n",
       "      <td>687 Earth days</td>\n",
       "    </tr>\n",
       "    <tr>\n",
       "      <th>6</th>\n",
       "      <td>Temperature:</td>\n",
       "      <td>-87 to -5 °C</td>\n",
       "    </tr>\n",
       "    <tr>\n",
       "      <th>7</th>\n",
       "      <td>Equatorial Diameter:</td>\n",
       "      <td>6,792 km</td>\n",
       "    </tr>\n",
       "    <tr>\n",
       "      <th>8</th>\n",
       "      <td>Polar Diameter:</td>\n",
       "      <td>6,752 km</td>\n",
       "    </tr>\n",
       "    <tr>\n",
       "      <th>9</th>\n",
       "      <td>Mass:</td>\n",
       "      <td>6.39 × 10^23 kg (0.11 Earths)</td>\n",
       "    </tr>\n",
       "    <tr>\n",
       "      <th>10</th>\n",
       "      <td>Moons:</td>\n",
       "      <td>2 ( Phobos &amp; Deimos )</td>\n",
       "    </tr>\n",
       "    <tr>\n",
       "      <th>11</th>\n",
       "      <td>Orbit Distance:</td>\n",
       "      <td>227,943,824 km (1.38 AU)</td>\n",
       "    </tr>\n",
       "    <tr>\n",
       "      <th>12</th>\n",
       "      <td>Orbit Period:</td>\n",
       "      <td>687 days (1.9 years)</td>\n",
       "    </tr>\n",
       "    <tr>\n",
       "      <th>13</th>\n",
       "      <td>Surface Temperature:</td>\n",
       "      <td>-87 to -5 °C</td>\n",
       "    </tr>\n",
       "    <tr>\n",
       "      <th>14</th>\n",
       "      <td>First Record:</td>\n",
       "      <td>2nd millennium BC</td>\n",
       "    </tr>\n",
       "    <tr>\n",
       "      <th>15</th>\n",
       "      <td>Recorded By:</td>\n",
       "      <td>Egyptian astronomers</td>\n",
       "    </tr>\n",
       "  </tbody>\n",
       "</table>\n",
       "</div>"
      ],
      "text/plain": [
       "                       Fact                           Data\n",
       "0   Mars - Earth Comparison                           Mars\n",
       "1                 Diameter:                       6,779 km\n",
       "2                     Mass:                6.39 × 10^23 kg\n",
       "3                    Moons:                              2\n",
       "4        Distance from Sun:                 227,943,824 km\n",
       "5           Length of Year:                 687 Earth days\n",
       "6              Temperature:                   -87 to -5 °C\n",
       "7      Equatorial Diameter:                       6,792 km\n",
       "8           Polar Diameter:                       6,752 km\n",
       "9                     Mass:  6.39 × 10^23 kg (0.11 Earths)\n",
       "10                   Moons:          2 ( Phobos & Deimos )\n",
       "11          Orbit Distance:       227,943,824 km (1.38 AU)\n",
       "12            Orbit Period:           687 days (1.9 years)\n",
       "13     Surface Temperature:                   -87 to -5 °C\n",
       "14            First Record:              2nd millennium BC\n",
       "15             Recorded By:           Egyptian astronomers"
      ]
     },
     "execution_count": 22,
     "metadata": {},
     "output_type": "execute_result"
    }
   ],
   "source": [
    "facts_df = df1.append(df2, ignore_index=True, sort=False)\n",
    "\n",
    "facts_df"
   ]
  },
  {
   "cell_type": "code",
   "execution_count": 23,
   "metadata": {},
   "outputs": [
    {
     "data": {
      "text/plain": [
       "'<table border=\"1\" class=\"dataframe\">\\n  <thead>\\n    <tr style=\"text-align: right;\">\\n      <th></th>\\n      <th>Fact</th>\\n      <th>Data</th>\\n    </tr>\\n  </thead>\\n  <tbody>\\n    <tr>\\n      <th>0</th>\\n      <td>Mars - Earth Comparison</td>\\n      <td>Mars</td>\\n    </tr>\\n    <tr>\\n      <th>1</th>\\n      <td>Diameter:</td>\\n      <td>6,779 km</td>\\n    </tr>\\n    <tr>\\n      <th>2</th>\\n      <td>Mass:</td>\\n      <td>6.39 × 10^23 kg</td>\\n    </tr>\\n    <tr>\\n      <th>3</th>\\n      <td>Moons:</td>\\n      <td>2</td>\\n    </tr>\\n    <tr>\\n      <th>4</th>\\n      <td>Distance from Sun:</td>\\n      <td>227,943,824 km</td>\\n    </tr>\\n    <tr>\\n      <th>5</th>\\n      <td>Length of Year:</td>\\n      <td>687 Earth days</td>\\n    </tr>\\n    <tr>\\n      <th>6</th>\\n      <td>Temperature:</td>\\n      <td>-87 to -5 °C</td>\\n    </tr>\\n    <tr>\\n      <th>7</th>\\n      <td>Equatorial Diameter:</td>\\n      <td>6,792 km</td>\\n    </tr>\\n    <tr>\\n      <th>8</th>\\n      <td>Polar Diameter:</td>\\n      <td>6,752 km</td>\\n    </tr>\\n    <tr>\\n      <th>9</th>\\n      <td>Mass:</td>\\n      <td>6.39 × 10^23 kg (0.11 Earths)</td>\\n    </tr>\\n    <tr>\\n      <th>10</th>\\n      <td>Moons:</td>\\n      <td>2 ( Phobos &amp; Deimos )</td>\\n    </tr>\\n    <tr>\\n      <th>11</th>\\n      <td>Orbit Distance:</td>\\n      <td>227,943,824 km (1.38 AU)</td>\\n    </tr>\\n    <tr>\\n      <th>12</th>\\n      <td>Orbit Period:</td>\\n      <td>687 days (1.9 years)</td>\\n    </tr>\\n    <tr>\\n      <th>13</th>\\n      <td>Surface Temperature:</td>\\n      <td>-87 to -5 °C</td>\\n    </tr>\\n    <tr>\\n      <th>14</th>\\n      <td>First Record:</td>\\n      <td>2nd millennium BC</td>\\n    </tr>\\n    <tr>\\n      <th>15</th>\\n      <td>Recorded By:</td>\\n      <td>Egyptian astronomers</td>\\n    </tr>\\n  </tbody>\\n</table>'"
      ]
     },
     "execution_count": 23,
     "metadata": {},
     "output_type": "execute_result"
    }
   ],
   "source": [
    "# Parse to an html string\n",
    "fact_table = facts_df.to_html()\n",
    "fact_table"
   ]
  },
  {
   "cell_type": "markdown",
   "metadata": {},
   "source": [
    "## Mars Hemispheres\n",
    "\n",
    "[Mars Hemispheres site](https://marshemispheres.com/)"
   ]
  },
  {
   "cell_type": "code",
   "execution_count": 24,
   "metadata": {},
   "outputs": [],
   "source": [
    "# Initialize the browser\n",
    "url = 'https://marshemispheres.com/'\n",
    "browser.visit(url)"
   ]
  },
  {
   "cell_type": "code",
   "execution_count": 25,
   "metadata": {},
   "outputs": [],
   "source": [
    "#Parse into Beautiful Soup object\n",
    "hemi_html = browser.html\n",
    "soup = BeautifulSoup(hemi_html, \"html.parser\")"
   ]
  },
  {
   "cell_type": "code",
   "execution_count": 26,
   "metadata": {},
   "outputs": [],
   "source": [
    "# Save image url string and hemisphere title to a Python dictionary\n",
    "hemisphere_img_urls = [{\"title\":\"Cerberus Hemisphere\",\"img_url\": \"https://marshemispheres.com/images/cerberus_enhanced.tif\"},\n",
    "                       {\"title\":\"Schiaparelli Hemisphere\",\"img_url\": \"https://marshemispheres.com/images/schiaparelli_enhanced.tif\"},\n",
    "                       {\"title\":\"Syrtis Major Hemisphere\",\"img_url\": \"https://marshemispheres.com/images/syrtis_major_enhanced.tif\"},\n",
    "                       {\"title\":\"Valles Marineris Hemisphere\",\"img_url\": \"https://marshemispheres.com/images/valles_marineris_enhanced.tif\"},\n",
    "                      ]"
   ]
  },
  {
   "cell_type": "code",
   "execution_count": 27,
   "metadata": {},
   "outputs": [
    {
     "data": {
      "text/plain": [
       "[{'title': 'Cerberus Hemisphere',\n",
       "  'img_url': 'https://marshemispheres.com/images/cerberus_enhanced.tif'},\n",
       " {'title': 'Schiaparelli Hemisphere',\n",
       "  'img_url': 'https://marshemispheres.com/images/schiaparelli_enhanced.tif'},\n",
       " {'title': 'Syrtis Major Hemisphere',\n",
       "  'img_url': 'https://marshemispheres.com/images/syrtis_major_enhanced.tif'},\n",
       " {'title': 'Valles Marineris Hemisphere',\n",
       "  'img_url': 'https://marshemispheres.com/images/valles_marineris_enhanced.tif'}]"
      ]
     },
     "execution_count": 27,
     "metadata": {},
     "output_type": "execute_result"
    }
   ],
   "source": [
    "hemisphere_img_urls"
   ]
  },
  {
   "cell_type": "code",
   "execution_count": 28,
   "metadata": {},
   "outputs": [],
   "source": [
    "#Can this be done in a loop?\n",
    "# Initialize the browser\n",
    "url = 'https://marshemispheres.com/'\n",
    "browser.visit(url)"
   ]
  },
  {
   "cell_type": "code",
   "execution_count": 29,
   "metadata": {},
   "outputs": [],
   "source": [
    "#Parse into Beautiful Soup object\n",
    "hemi2_html = browser.html\n",
    "soup = BeautifulSoup(hemi2_html, \"html.parser\")"
   ]
  },
  {
   "cell_type": "code",
   "execution_count": 34,
   "metadata": {},
   "outputs": [],
   "source": [
    "# Define class where link to urls and titles are located\n",
    "#returns = soup.find(\"div\", class_=\"container\")\n",
    "#data = returns.find_all(\"a\")\n",
    "\n",
    "# Create empty list to contain the dictionary\n",
    "hemisphere2_img_urls = []"
   ]
  },
  {
   "cell_type": "code",
   "execution_count": 38,
   "metadata": {},
   "outputs": [
    {
     "ename": "NameError",
     "evalue": "name 'a' is not defined",
     "output_type": "error",
     "traceback": [
      "\u001b[1;31m---------------------------------------------------------------------------\u001b[0m",
      "\u001b[1;31mNameError\u001b[0m                                 Traceback (most recent call last)",
      "\u001b[1;32m<ipython-input-38-62e2901e12c3>\u001b[0m in \u001b[0;36m<module>\u001b[1;34m\u001b[0m\n\u001b[0;32m      3\u001b[0m     \u001b[1;31m# main page title and link\u001b[0m\u001b[1;33m\u001b[0m\u001b[1;33m\u001b[0m\u001b[1;33m\u001b[0m\u001b[0m\n\u001b[0;32m      4\u001b[0m     \u001b[1;31m#img_title = soup.find(\"h2\", class_=\"title\").txt\u001b[0m\u001b[1;33m\u001b[0m\u001b[1;33m\u001b[0m\u001b[1;33m\u001b[0m\u001b[0m\n\u001b[1;32m----> 5\u001b[1;33m     \u001b[0mlink\u001b[0m \u001b[1;33m=\u001b[0m \u001b[1;34m\"https://marshemispheres.com/\"\u001b[0m \u001b[1;33m+\u001b[0m \u001b[0ma\u001b[0m\u001b[1;33m[\u001b[0m\u001b[1;34m'href'\u001b[0m\u001b[1;33m]\u001b[0m\u001b[1;33m\u001b[0m\u001b[1;33m\u001b[0m\u001b[0m\n\u001b[0m\u001b[0;32m      6\u001b[0m \u001b[1;33m\u001b[0m\u001b[0m\n\u001b[0;32m      7\u001b[0m     \u001b[1;31m# follow link\u001b[0m\u001b[1;33m\u001b[0m\u001b[1;33m\u001b[0m\u001b[1;33m\u001b[0m\u001b[0m\n",
      "\u001b[1;31mNameError\u001b[0m: name 'a' is not defined"
     ]
    }
   ],
   "source": [
    "# Loop through the images (4) the page to load the title and url into dictionary\n",
    "for i in data:\n",
    "    # main page title and link\n",
    "    #img_title = soup.find(\"h2\", class_=\"title\").txt\n",
    "    link = \"https://marshemispheres.com/\" + a['href']\n",
    "    \n",
    "    # follow link\n",
    "    browser.visit(link)\n",
    "    time.sleep(5)\n",
    "    \n",
    "    # image links\n",
    "    hemi2_html =  browser.html\n",
    "    soup = BeautifulSoup(hemi2_html, \"html.parser\")\n",
    "    img_link = soup.find(\"div\", class_=\"description\").find(\"dd\").a[\"href\"]\n",
    "    \n",
    "    # create dictionary\n",
    "    img_dict = {}\n",
    "    #img_dict[\"img_title\"] = img_title\n",
    "    img_dict[\"img_link\"] = img_link\n",
    "    \n",
    "    hemisphere2_img-urls.append(img_dict)\n",
    "    \n",
    "print(hemisphere2_img_urls)\n",
    "    "
   ]
  },
  {
   "cell_type": "code",
   "execution_count": null,
   "metadata": {},
   "outputs": [],
   "source": []
  },
  {
   "cell_type": "code",
   "execution_count": null,
   "metadata": {},
   "outputs": [],
   "source": []
  },
  {
   "cell_type": "code",
   "execution_count": null,
   "metadata": {},
   "outputs": [],
   "source": []
  },
  {
   "cell_type": "code",
   "execution_count": null,
   "metadata": {},
   "outputs": [],
   "source": []
  },
  {
   "cell_type": "code",
   "execution_count": null,
   "metadata": {},
   "outputs": [],
   "source": [
    "browser.quit()"
   ]
  }
 ],
 "metadata": {
  "kernelspec": {
   "display_name": "Python 3",
   "language": "python",
   "name": "python3"
  },
  "language_info": {
   "codemirror_mode": {
    "name": "ipython",
    "version": 3
   },
   "file_extension": ".py",
   "mimetype": "text/x-python",
   "name": "python",
   "nbconvert_exporter": "python",
   "pygments_lexer": "ipython3",
   "version": "3.6.10"
  },
  "varInspector": {
   "cols": {
    "lenName": 16,
    "lenType": 16,
    "lenVar": 40
   },
   "kernels_config": {
    "python": {
     "delete_cmd_postfix": "",
     "delete_cmd_prefix": "del ",
     "library": "var_list.py",
     "varRefreshCmd": "print(var_dic_list())"
    },
    "r": {
     "delete_cmd_postfix": ") ",
     "delete_cmd_prefix": "rm(",
     "library": "var_list.r",
     "varRefreshCmd": "cat(var_dic_list()) "
    }
   },
   "types_to_exclude": [
    "module",
    "function",
    "builtin_function_or_method",
    "instance",
    "_Feature"
   ],
   "window_display": false
  }
 },
 "nbformat": 4,
 "nbformat_minor": 2
}
